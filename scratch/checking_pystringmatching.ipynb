{
 "cells": [
  {
   "cell_type": "code",
   "execution_count": 1,
   "metadata": {
    "collapsed": false
   },
   "outputs": [],
   "source": [
    "%load_ext autotime"
   ]
  },
  {
   "cell_type": "code",
   "execution_count": 2,
   "metadata": {
    "collapsed": false
   },
   "outputs": [
    {
     "name": "stdout",
     "output_type": "stream",
     "text": [
      "time: 190 ms\n"
     ]
    }
   ],
   "source": [
    "from py_stringmatching import simfunctions, tokenizers"
   ]
  },
  {
   "cell_type": "code",
   "execution_count": 3,
   "metadata": {
    "collapsed": false
   },
   "outputs": [
    {
     "name": "stdout",
     "output_type": "stream",
     "text": [
      "time: 434 ms\n"
     ]
    }
   ],
   "source": [
    "import pandas as pd"
   ]
  },
  {
   "cell_type": "code",
   "execution_count": 10,
   "metadata": {
    "collapsed": false
   },
   "outputs": [
    {
     "name": "stdout",
     "output_type": "stream",
     "text": [
      "time: 699 ms\n"
     ]
    }
   ],
   "source": [
    "d = pd.read_csv('elec_pairs_stage1.txt', '?', header=False)"
   ]
  },
  {
   "cell_type": "code",
   "execution_count": 13,
   "metadata": {
    "collapsed": false
   },
   "outputs": [
    {
     "name": "stdout",
     "output_type": "stream",
     "text": [
      "time: 1.12 ms\n"
     ]
    }
   ],
   "source": [
    "d.columns=['pairId','prod1.id', 'prod1.json','prod2.id', 'prod2.json','label']"
   ]
  },
  {
   "cell_type": "code",
   "execution_count": 16,
   "metadata": {
    "collapsed": false
   },
   "outputs": [
    {
     "name": "stdout",
     "output_type": "stream",
     "text": [
      "time: 1.24 ms\n"
     ]
    }
   ],
   "source": [
    "xx = d['prod1.json'][0]"
   ]
  },
  {
   "cell_type": "code",
   "execution_count": 18,
   "metadata": {
    "collapsed": false
   },
   "outputs": [
    {
     "name": "stdout",
     "output_type": "stream",
     "text": [
      "time: 923 µs\n"
     ]
    }
   ],
   "source": [
    "import json"
   ]
  },
  {
   "cell_type": "code",
   "execution_count": 20,
   "metadata": {
    "collapsed": false
   },
   "outputs": [
    {
     "name": "stdout",
     "output_type": "stream",
     "text": [
      "time: 1.13 ms\n"
     ]
    }
   ],
   "source": [
    "yy = json.loads(xx)"
   ]
  },
  {
   "cell_type": "code",
   "execution_count": 21,
   "metadata": {
    "collapsed": false
   },
   "outputs": [
    {
     "data": {
      "text/plain": [
       "[[u'Video Game Software'],\n",
       " [u'Toys & Games'],\n",
       " [u'Nintendo Wii'],\n",
       " [u'USA or Imported'],\n",
       " [u'00010086650136'],\n",
       " [u'1'],\n",
       " [u'N'],\n",
       " [u'<p>'],\n",
       " [u'SEGA'],\n",
       " [u'n/a'],\n",
       " [u'<ul><li>Rack up Gravity Points through tricks and technical challenges and enter a zero-gravity environment with new Sonic abilities, like Gravity Control and Gravity Dive.</li><li>You can switch up your vehicles, even in mid-race, to best suit your racing style. Transformations include a hover board, motorcycle and futuristic hovercraft, plus multiple options for upgrading ensure that no two vehicles will be the same. Depending on the vehicle upgrade, hidden routes may be uncovered, such as gliding on the air at the bottom of a valley, or riding through thick walls. Now, whether the terrain is waterway, highway or jungle, the action never slows down!</li><li>You can now air board on walls and pull gravity-defying tricks and even grind on cars that are floating in the zero-gravity environment. With these new moves, cornering becomes more intense and the pace is brought to heart-stopping speeds!</li><li>Three fast, fierce, and fun Multiplayer modes.</li><li>ESRB Rating: EVERYONE with Cartoon Violence</li></ul>'],\n",
       " [u'Sonic Riders: Zero Gravity (Wii)'],\n",
       " [u'Sports & Racing'],\n",
       " [u'4'],\n",
       " [u'Stuffed Animals & Plush Toys'],\n",
       " [u'1201824000000'],\n",
       " [u'New Games'],\n",
       " [u'Sonic Team'],\n",
       " [u'Sega Corporation'],\n",
       " [u'Y'],\n",
       " [u'010086650136'],\n",
       " [u'0.5'],\n",
       " [u'7.5'],\n",
       " [u'4'],\n",
       " [u'Action Racing'],\n",
       " [u'Wii Remote'],\n",
       " [u'5.0'],\n",
       " [u'N']]"
      ]
     },
     "execution_count": 21,
     "metadata": {},
     "output_type": "execute_result"
    },
    {
     "name": "stdout",
     "output_type": "stream",
     "text": [
      "time: 5.67 ms\n"
     ]
    }
   ],
   "source": [
    "yy.values()"
   ]
  }
 ],
 "metadata": {
  "kernelspec": {
   "display_name": "Python 2",
   "language": "python",
   "name": "python2"
  },
  "language_info": {
   "codemirror_mode": {
    "name": "ipython",
    "version": 2
   },
   "file_extension": ".py",
   "mimetype": "text/x-python",
   "name": "python",
   "nbconvert_exporter": "python",
   "pygments_lexer": "ipython2",
   "version": "2.7.10"
  }
 },
 "nbformat": 4,
 "nbformat_minor": 0
}
